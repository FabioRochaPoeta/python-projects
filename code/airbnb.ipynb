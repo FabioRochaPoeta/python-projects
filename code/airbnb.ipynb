{
 "cells": [
  {
   "cell_type": "code",
   "execution_count": 15,
   "metadata": {},
   "outputs": [],
   "source": [
    "import requests\n",
    "import json\n",
    "import pandas as pd\n",
    "from time import sleep\n",
    "from datetime import date\n",
    "from datetime import datetime"
   ]
  },
  {
   "attachments": {},
   "cell_type": "markdown",
   "metadata": {},
   "source": [
    "### Função de Busca com Parâmetros inseridos pelo usuário"
   ]
  },
  {
   "cell_type": "code",
   "execution_count": 11,
   "metadata": {},
   "outputs": [],
   "source": [
    "def search(city, checkin, checkout, adults=1, childrens=0, infants=0): # 3 parâmentros obrigatórios e 3 opcionais\n",
    "\n",
    "    headers = {\n",
    "    \"X-RapidAPI-Key\": \"be40a372c4msha287a041c2472e3p1d7451jsn1789a2973a48\", # token e host fornecidos pelo API na hora do cadastro\n",
    "    \"X-RapidAPI-Host\": \"airbnb13.p.rapidapi.com\"\n",
    "    }\n",
    "\n",
    "    url = \"https://airbnb13.p.rapidapi.com/search-location\" # url base da API\n",
    "\n",
    "    querystring = {\"location\":city,\"checkin\":checkin,\"checkout\":checkout,\"adults\":adults,\"children\":childrens,\"infants\":infants,\"page\":\"1\",\"currency\":\"BRL\"} # lista de parâmentros para a pesquisa.\n",
    "\n",
    "    # Laço para aquisição dos resultados (maxímo de 8 paginas, com 40 resultados por página. limite da API)        \n",
    "    results = []\n",
    "    for page in range(1,9):\n",
    "        querystring[\"page\"] = str(page)\n",
    "        if page == 6:\n",
    "            sleep(60) # A API só deixa fazer 5 requests por minutos. No 6º request, precisa esperar pelo menos 1mim para poder fazer mais.\n",
    "        response = requests.get(url, headers=headers, params=querystring).json()\n",
    "        if response.get(\"error\") == True or response.get(\"message\") != None:\n",
    "            print(response.get(\"message\"))\n",
    "            break\n",
    "        else:\n",
    "            results.extend(response[\"results\"])\n",
    "    # Criação de um DF com o resultado total encontrado\n",
    "    df = pd.DataFrame(data=results)\n",
    "\n",
    "    # Algumas informações mostradas ao usuário como uma base\n",
    "    print(f\"{len(results)} results were found.\")\n",
    "    sum = 0\n",
    "    for ids in results:\n",
    "        sum += ids[\"price\"][\"total\"]\n",
    "    print(f\"The avarege price is {querystring['currency']}:{sum/(int(len(results)))}\")\n",
    "\n",
    "    return df"
   ]
  },
  {
   "attachments": {},
   "cell_type": "markdown",
   "metadata": {},
   "source": [
    "### Inserção das variáveis para a pesquisa no site"
   ]
  },
  {
   "attachments": {},
   "cell_type": "markdown",
   "metadata": {},
   "source": [
    "#### Testa data CHECKIN"
   ]
  },
  {
   "cell_type": "code",
   "execution_count": 4,
   "metadata": {},
   "outputs": [],
   "source": [
    "def checkin():\n",
    "    atual_date = datetime.today()\n",
    "    var = input(\"Checkin (Format: dd/mm/aaaa) *Required: \")\n",
    "    date = datetime.strptime(var,\"%d-%m-%Y\")\n",
    "    checkin_date = datetime.strftime(date, \"%Y-%m-%d\")\n",
    "    if date < atual_date:\n",
    "        print(\"Date can not be in the past!\")\n",
    "        checkin_date = checkin()\n",
    "    return checkin_date"
   ]
  },
  {
   "attachments": {},
   "cell_type": "markdown",
   "metadata": {},
   "source": [
    "#### Testa data CHECKOUT"
   ]
  },
  {
   "cell_type": "code",
   "execution_count": null,
   "metadata": {},
   "outputs": [],
   "source": [
    "def checkout(checkin_date):\n",
    "    var = input(\"Checkout (Format: dd/mm/aaaa) *Required: \")\n",
    "    date = datetime.strptime(var,\"%d-%m-%Y\")\n",
    "    checkout_date = datetime.strftime(date,\"%Y-%m-%d\")\n",
    "    if checkout_date <= checkin_date:\n",
    "        print(\"Checkout must be after checkin\")\n",
    "        checkout_date = checkout(checkin_date)\n",
    "    return checkout_date"
   ]
  },
  {
   "attachments": {},
   "cell_type": "markdown",
   "metadata": {},
   "source": [
    "### Entrada dos parâmetros de pesquisa"
   ]
  },
  {
   "cell_type": "code",
   "execution_count": 12,
   "metadata": {},
   "outputs": [
    {
     "name": "stdout",
     "output_type": "stream",
     "text": [
      "You have exceeded the MONTHLY quota for Requests on your current plan, BASIC. Upgrade your plan at https://rapidapi.com/3b-data-3b-data-default/api/airbnb13\n",
      "0 results were found.\n"
     ]
    }
   ],
   "source": [
    "city = str(input(\"Enter the City *Required: \"))\n",
    "checkin = checkin()\n",
    "checkout = checkout(checkin)\n",
    "adults = str(input(\"Adults (+13y) *Default = 1): \"))\n",
    "childrens = str(input(\"Childerns (2-12y) *Default = 0): \"))\n",
    "infants = str(input(\"Infants (U-2y) *Default = 0): \"))\n",
    "\n",
    "df = search(city, checkin, checkout, adults, childrens, infants) # Chamada da função com os parâmentros"
   ]
  },
  {
   "cell_type": "code",
   "execution_count": 13,
   "metadata": {},
   "outputs": [
    {
     "data": {
      "text/plain": [
       "{'message': 'You have exceeded the MONTHLY quota for Requests on your current plan, BASIC. Upgrade your plan at https://rapidapi.com/3b-data-3b-data-default/api/airbnb13'}"
      ]
     },
     "execution_count": 13,
     "metadata": {},
     "output_type": "execute_result"
    }
   ],
   "source": [
    "df"
   ]
  },
  {
   "attachments": {},
   "cell_type": "markdown",
   "metadata": {},
   "source": [
    "### Função Filtro"
   ]
  },
  {
   "cell_type": "code",
   "execution_count": 14,
   "metadata": {},
   "outputs": [
    {
     "ename": "AttributeError",
     "evalue": "'dict' object has no attribute 'loc'",
     "output_type": "error",
     "traceback": [
      "\u001b[1;31m---------------------------------------------------------------------------\u001b[0m",
      "\u001b[1;31mAttributeError\u001b[0m                            Traceback (most recent call last)",
      "Cell \u001b[1;32mIn[14], line 1\u001b[0m\n\u001b[1;32m----> 1\u001b[0m df\u001b[39m.\u001b[39;49mloc[df\u001b[39m.\u001b[39mbathrooms\u001b[39m==\u001b[39m\u001b[39m2\u001b[39m]\n\u001b[0;32m      2\u001b[0m df\u001b[39m.\u001b[39mreplace(\u001b[39m'\u001b[39m\u001b[39mTORONTO\u001b[39m\u001b[39m'\u001b[39m, \u001b[39m'\u001b[39m\u001b[39mToronto\u001b[39m\u001b[39m'\u001b[39m, inplace\u001b[39m=\u001b[39m\u001b[39mTrue\u001b[39;00m)\n",
      "\u001b[1;31mAttributeError\u001b[0m: 'dict' object has no attribute 'loc'"
     ]
    }
   ],
   "source": [
    "df.loc[df.bathrooms==2]\n",
    "df.replace('PELOTAS', 'o', inplace=True)"
   ]
  },
  {
   "cell_type": "code",
   "execution_count": null,
   "metadata": {},
   "outputs": [],
   "source": []
  }
 ],
 "metadata": {
  "kernelspec": {
   "display_name": "Python 3",
   "language": "python",
   "name": "python3"
  },
  "language_info": {
   "codemirror_mode": {
    "name": "ipython",
    "version": 3
   },
   "file_extension": ".py",
   "mimetype": "text/x-python",
   "name": "python",
   "nbconvert_exporter": "python",
   "pygments_lexer": "ipython3",
   "version": "3.10.9"
  },
  "orig_nbformat": 4
 },
 "nbformat": 4,
 "nbformat_minor": 2
}

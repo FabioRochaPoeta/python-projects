{
 "cells": [
  {
   "attachments": {},
   "cell_type": "markdown",
   "metadata": {},
   "source": [
    "### Importar libs e criar dic de amenities"
   ]
  },
  {
   "cell_type": "code",
   "execution_count": 32,
   "metadata": {},
   "outputs": [],
   "source": [
    "import requests\n",
    "import pandas as pd\n",
    "from time import sleep\n",
    "from tqdm import tqdm\n",
    "from datetime import datetime\n",
    "from utils import config\n",
    "import ast"
   ]
  },
  {
   "cell_type": "code",
   "execution_count": 33,
   "metadata": {},
   "outputs": [],
   "source": [
    "_AMENITIES = {\n",
    "        \"Kitchen\"                       : [2, 8],\n",
    "        \"Wifi\"                          : 4,\n",
    "        \"Air conditioning\"              : 5,\n",
    "        \"Pool\"                          : 7,\n",
    "        \"Free parking on premises\"      : 9,\n",
    "        \"Smoking allowed\"               : 11,\n",
    "        \"Pets allowed\"                  : 12,\n",
    "        \"Gym\"                           : 15,\n",
    "        \"Breakfast\"                     : 16,\n",
    "        \"Elevator\"                      : 21,\n",
    "        \"Hot tub\"                       : 25,\n",
    "        \"Indoor fireplace\"              : 27,\n",
    "        \"Heating\"                       : 30,\n",
    "        \"Washer\"                        : 33,\n",
    "        \"Dryer\"                         : 34,\n",
    "        \"Smoke alarm\"                   : 35,\n",
    "        \"Carbon monoxide alarm\"         : 36,\n",
    "        \"Shampoo\"                       : 41,\n",
    "        \"Hangers\"                       : 44,\n",
    "        \"Hair dryer\"                    : 45,\n",
    "        \"Iron\"                          : 46,\n",
    "        \"Laptop-friendly workspace\"     : 47,\n",
    "        \"Self check-in\"                 : 51,\n",
    "        \"TV\"                            : 58,\n",
    "        \"High chair\"                    : 64,\n",
    "        \"Private bathroom\"              : 78,\n",
    "        \"Wide hallways\"                 : 109,\n",
    "        \"No stairs or steps to enter\"   : [110, 115, 120, 127],\n",
    "        \"Wide entrance for guests\"      : 111,\n",
    "        \"Step-free path to entrance\"    : 112,\n",
    "        \"Well-lit path to entrance\"     : 113,\n",
    "        \"Disabled parking spot\"         : 114,\n",
    "        \"Wide entrance\"                 : 116,\n",
    "        \"Extra space around bed\"        : 117,\n",
    "        \"Accessible-height bed\"         : 118,\n",
    "        \"Wide doorway to guest bathroom\": 121,\n",
    "        \"Bathtub with bath chair\"       : 123,\n",
    "        \"Accessible-height toilet\"      : 125,\n",
    "        \"Wide entryway\"                 : 128,\n",
    "        \"Handheld shower head\"          : 136,\n",
    "        \"Crib\"                          : 286,\n",
    "        \"Electric profiling bed\"        : 288,\n",
    "        \"Mobile hoist\"                  : 289,\n",
    "        \"Pool with pool hoist\"          : 290,\n",
    "        \"Ceiling hoist\"                 : 291,\n",
    "        \"Fixed grab bars for shower\"    : 294,\n",
    "        \"Fixed grab bars for toilet\"    : 295,\n",
    "        \"Step-free shower\"              : 296,\n",
    "        \"Shower chair\"                  : 297,\n",
    "        \"Piano\"                         : 347,\n",
    "        \"Extra space around toilet\"     : 608,\n",
    "        \"Extra space around shower\"     : 609\n",
    "    }\n",
    "\n",
    "_AMENITIES = {k.lower() : v for k, v in _AMENITIES.items()}"
   ]
  },
  {
   "attachments": {},
   "cell_type": "markdown",
   "metadata": {},
   "source": [
    "### Função de Busca com Parâmetros inseridos pelo usuário"
   ]
  },
  {
   "cell_type": "code",
   "execution_count": 62,
   "metadata": {},
   "outputs": [],
   "source": [
    "def invert_date(date):\n",
    "    '''Convert date format from YYYY-MM-DD to DD-MM-YY'''\n",
    "    date = date.split('-')[::-1]\n",
    "    y = date.pop(-1)[2:]\n",
    "    date.append(y)\n",
    "    return '-'.join(date)\n",
    "\n",
    "def search(city, checkin, checkout, adults=1, childrens=0, infants=0): # 3 parâmentros obrigatórios e 3 opcionais\n",
    "\n",
    "    headers = {\n",
    "    \"X-RapidAPI-Key\" : config.API_KEY, # token e host fornecidos pelo API na hora do cadastro\n",
    "    \"X-RapidAPI-Host\": config.API_HOST\n",
    "    }\n",
    "\n",
    "    url = \"https://airbnb13.p.rapidapi.com/search-location\" # url base da API\n",
    "\n",
    "    # lista de parâmentros para a pesquisa.    \n",
    "    querystring = {\"location\" : city,\n",
    "                   \"checkin\" : checkin,\n",
    "                   \"checkout\": checkout,\n",
    "                   \"adults\"  : adults,\n",
    "                   \"children\": childrens,\n",
    "                   \"infants\" : infants,\n",
    "                   \"page\"    : \"1\",\n",
    "                   \"currency\": \"BRL\"}\n",
    "\n",
    "    # Laço para aquisição dos resultados (maxímo de 8 paginas, com 40 resultados por página. limite da API)        \n",
    "    results = []\n",
    "    for page in tqdm(range(1, 9)):\n",
    "        querystring[\"page\"] = str(page)\n",
    "        response = requests.get(url, headers=headers, params=querystring).json()\n",
    "        if response.get(\"error\") == True or response.get(\"message\") != None:\n",
    "            print(response.get(\"message\"))\n",
    "            break\n",
    "        else:\n",
    "            results.extend(response[\"results\"])\n",
    "        sleep(12.5) # A API só deixa fazer 5 requests por minutos.\n",
    "\n",
    "    # Criação de um DF com o resultado total encontrado\n",
    "    df = pd.DataFrame(data=results)\n",
    "\n",
    "    # Criar arquivo csv\n",
    "    main_city = df.city.value_counts().index[0]\n",
    "    df.to_csv(f'../data/raw/{main_city}_{checkin}_{checkout}_raw.csv', sep=';', index=False)\n",
    "\n",
    "    # Imprimir quantidade de acomodações encontradas e média de preço do período escolhido\n",
    "    print(f\"{len(results)} results were found.\")    \n",
    "    datein = invert_date(checkin)\n",
    "    dateout = invert_date(checkout)    \n",
    "    sum = 0\n",
    "    for ids in results:\n",
    "        sum += ids[\"price\"][\"total\"]\n",
    "    print(f\"Avarege price for {datein} to {dateout}: {sum/(int(len(results))) :.2f} {querystring['currency']}\")\n",
    "\n",
    "    return df"
   ]
  },
  {
   "attachments": {},
   "cell_type": "markdown",
   "metadata": {},
   "source": [
    "### Inserção das variáveis para a pesquisa no site"
   ]
  },
  {
   "attachments": {},
   "cell_type": "markdown",
   "metadata": {},
   "source": [
    "#### Testa data CHECKIN"
   ]
  },
  {
   "cell_type": "code",
   "execution_count": 35,
   "metadata": {},
   "outputs": [],
   "source": [
    "def checkin():\n",
    "    atual_date = datetime.today()\n",
    "    var = input(\"Checkin (Format: dd/mm/aaaa) *Required: \")\n",
    "    date = datetime.strptime(var,\"%d/%m/%Y\")\n",
    "    checkin_date = datetime.strftime(date, \"%Y-%m-%d\")\n",
    "    if date < atual_date:\n",
    "        print(\"Date can not be in the past!\")\n",
    "        checkin_date = checkin()\n",
    "    return checkin_date"
   ]
  },
  {
   "attachments": {},
   "cell_type": "markdown",
   "metadata": {},
   "source": [
    "#### Testa data CHECKOUT"
   ]
  },
  {
   "cell_type": "code",
   "execution_count": 36,
   "metadata": {},
   "outputs": [],
   "source": [
    "def checkout(checkin_date):\n",
    "    var = input(\"Checkout (Format: dd/mm/aaaa) *Required: \")\n",
    "    date = datetime.strptime(var,\"%d/%m/%Y\")\n",
    "    checkin_date = datetime.strptime(checkin_date,\"%Y-%m-%d\")\n",
    "    checkout_date = datetime.strftime(date,\"%Y-%m-%d\")\n",
    "    if date <= checkin_date:\n",
    "        print(\"Checkout must be after checkin\")\n",
    "        checkout_date = checkout()\n",
    "    return checkout_date"
   ]
  },
  {
   "attachments": {},
   "cell_type": "markdown",
   "metadata": {},
   "source": [
    "### Entrada dos parâmetros de pesquisa"
   ]
  },
  {
   "cell_type": "code",
   "execution_count": 37,
   "metadata": {},
   "outputs": [
    {
     "name": "stderr",
     "output_type": "stream",
     "text": [
      "100%|██████████| 8/8 [02:01<00:00, 15.21s/it]\n"
     ]
    },
    {
     "name": "stdout",
     "output_type": "stream",
     "text": [
      "300 results were found.\n",
      "The avarege price for 2023-05-02 to 2023-05-20: 12258.54 BRL\n"
     ]
    }
   ],
   "source": [
    "city = input(\"Enter the City *Required: \")\n",
    "checkin = checkin()\n",
    "checkout = checkout(checkin)\n",
    "adults = input(\"Adults (+13y) *Default = 1): \")\n",
    "childrens = input(\"Childerns (2-12y) *Default = 0): \")\n",
    "infants = input(\"Infants (U-2y) *Default = 0): \")\n",
    "\n",
    "df = search(city, checkin, checkout, adults, childrens, infants) # Chamada da função com os parâmentros"
   ]
  },
  {
   "attachments": {},
   "cell_type": "markdown",
   "metadata": {},
   "source": [
    "### Função Filtro"
   ]
  },
  {
   "cell_type": "code",
   "execution_count": 63,
   "metadata": {},
   "outputs": [],
   "source": [
    "def filter(csv_path, min_bathrooms : float = None, min_bedrooms : int = None, min_beds : int = None, city_only : bool = False, \n",
    "           is_superhost : bool = False, rarefind : bool = False, min_person : int = None, min_rvw : int = None, \n",
    "           types : str | list = None, max_night_rate : int = None, max_price : int = None, min_rating : float = None, amenities : list = None) -> pd.DataFrame:\n",
    "    \n",
    "    # Criar DF com csv_path\n",
    "    df = pd.read_csv(csv_path, sep=';')\n",
    "\n",
    "    # Arrumar tipos das colunas\n",
    "    df.price = df.price.apply(lambda price: ast.literal_eval(price))\n",
    "    df.amenityIds = df.amenityIds.apply(lambda x: ast.literal_eval(x))\n",
    "\n",
    "    # Copiar df para preservar o original\n",
    "    df_filter = df.copy()\n",
    "\n",
    "    # Definir currency\n",
    "    currency = df_filter.price[0]['currency']\n",
    "\n",
    "    # Filtrar parâmetros opcionais\n",
    "    if min_bathrooms:\n",
    "        df_filter = df_filter.loc[df_filter.bathrooms >= min_bathrooms].copy()\n",
    "    if min_bedrooms:\n",
    "        df_filter = df_filter.loc[df_filter.bedrooms >= min_bedrooms].copy()\n",
    "    if min_beds:\n",
    "        df_filter = df_filter.loc[df_filter.beds >= min_beds].copy()\n",
    "    if city_only:\n",
    "        df_filter = df_filter.loc[df_filter.city == df_filter.city.value_counts().index[0]].copy()\n",
    "    if is_superhost:\n",
    "        df_filter = df_filter.loc[df_filter.isSuperhost == True].copy()\n",
    "    if rarefind:\n",
    "        df_filter = df_filter.loc[df_filter.rareFind == True].copy()\n",
    "    if min_person:\n",
    "        df_filter = df_filter.loc[df_filter.persons >= min_person].copy()\n",
    "    if min_rvw:\n",
    "        df_filter = df_filter.loc[df_filter.reviewsCount >= min_rvw].copy()\n",
    "\n",
    "    # Filtrar types\n",
    "    if types:\n",
    "        if type(types) is str:\n",
    "            if types.lower() in [t.lower() for t in df_filter.type.unique()]:\n",
    "                df_filter = df_filter.loc[df_filter.type.apply(str.lower) == types.lower()].copy()\n",
    "            else:\n",
    "                return print(f'Type not available, please enter a valid type among the following:\\n{df.type.unique()}')\n",
    "        if type(types) is list:\n",
    "            types = [i.lower() for i in types]\n",
    "            check_types = [value in df_filter.type.apply(str.lower).unique() for value in types]\n",
    "            if any(check_types):\n",
    "                df_filter = df_filter.loc[df_filter.type.map(lambda value: value.lower() in types)].copy()\n",
    "            else:\n",
    "                return print(f'Types not available, please enter a valid type among the following:\\n{df.type.unique()}')\n",
    "            if not all(check_types):\n",
    "                for value in types:\n",
    "                    if value not in df_filter.type.apply(str.lower).unique():\n",
    "                        print(f'{value} is not a valid type and was not used in this filter.')\n",
    "                print('Please use the following list of types:', df.type.unique(), sep='\\n')\n",
    "    if max_night_rate:\n",
    "        df_filter = df_filter.loc[df_filter.price.map(lambda price: price['rate'] <= max_night_rate)].copy()\n",
    "    if max_price:\n",
    "        df_filter = df_filter.loc[df_filter.price.map(lambda price: price['total'] <= max_price)].copy()\n",
    "    if min_rating:\n",
    "        df_filter = df_filter.loc[df_filter.rating >= min_rating].copy()\n",
    "    \n",
    "    # Filtrar amenities\n",
    "    if amenities:\n",
    "        wrong_amenity = []\n",
    "        if type(amenities) is str:\n",
    "            amenities = [amenities]\n",
    "        if type(amenities) is list:\n",
    "            amenities = {a : _AMENITIES.get(a.lower(), False) for a in amenities}\n",
    "        for amenity, code in amenities.items():\n",
    "            if type(code) is int:\n",
    "                df_filter = df_filter.loc[df_filter.amenityIds.map(lambda x: code in x)].copy()\n",
    "            elif type(code) is list:\n",
    "                df_filter = df_filter.loc[df_filter.amenityIds.map(lambda x: any([c in x for c in code]))].copy()\n",
    "            else:\n",
    "                wrong_amenity.append(amenity)\n",
    "        if len(wrong_amenity) > 0:\n",
    "            print(f'The following amenities are not available:\\n{wrong_amenity}\\nPlease enter a valid amenity among the following:\\n{list(_AMENITIES.keys())}')\n",
    "\n",
    "    # Printar resultados\n",
    "    total = len(df_filter)\n",
    "    print(f'\\nFound {total} accommodations:')\n",
    "    if total > 0:\n",
    "        print('-' * 30)\n",
    "        print('Minimum night rate:', df_filter.price.map(lambda value: value['rate']).min(), currency)\n",
    "        print('Maximum night rate:', df_filter.price.map(lambda value: value['rate']).max(), currency)\n",
    "        l = print('Average night rate:', round(df_filter.price.map(lambda value: value['rate']).mean(), 2), currency)\n",
    "        print('-' * 30)\n",
    "        print('Minimum total price:', df_filter.price.map(lambda value: value['total']).min(), currency)\n",
    "        print('Maximum total price:', df_filter.price.map(lambda value: value['total']).max(), currency)\n",
    "        print('Average total price:', round(df_filter.price.map(lambda value: value['total']).mean(), 2), currency)\n",
    "        print('-' * 30)\n",
    "        \n",
    "    return df_filter\n",
    "\n",
    "def show_filter_links(df_filter):\n",
    "    for link in df_filter.deeplink:\n",
    "        print(link)\n",
    "\n",
    "def save_filtered(df_filter):\n",
    "    df_filter.to_csv(f'../data/filtered/{city}_{checkin}_{checkout}_filtered.csv', sep=';', index=False)\n",
    "    print('CSV File Saved to directory: ../data/filtered/')\n",
    "    "
   ]
  },
  {
   "cell_type": "code",
   "execution_count": 54,
   "metadata": {},
   "outputs": [
    {
     "name": "stdout",
     "output_type": "stream",
     "text": [
      "\n",
      "Found 3 accommodations:\n",
      "------------------------------\n",
      "Minimum night rate: 424 BRL\n",
      "Maximum night rate: 548 BRL\n",
      "Average night rate: 506.67 BRL\n",
      "------------------------------\n",
      "Minimum total price: 7617 BRL\n",
      "Maximum total price: 9863 BRL\n",
      "Average total price: 9110.33 BRL\n",
      "------------------------------\n",
      "https://www.airbnb.com/rooms/30851612?check_in=2023-05-02&check_out=2023-05-20&adults=2\n",
      "https://www.airbnb.com/rooms/42711635?check_in=2023-05-02&check_out=2023-05-20&adults=2\n",
      "https://www.airbnb.com/rooms/833290035655790218?check_in=2023-05-02&check_out=2023-05-20&adults=2\n"
     ]
    }
   ],
   "source": [
    "df_filter = filter('../data/raw/Toronto_2023-05-02_2023-05-20_raw.csv', min_bathrooms=None, \n",
    "                    min_bedrooms=None, min_beds=None, city_only=True, \n",
    "                    is_superhost=False, rarefind=False, min_person=None, min_rvw=None, \n",
    "                    types=None, max_night_rate=None, max_price=10000, min_rating=None, amenities='pets allowed')\n",
    "\n",
    "show_filter_links(df_filter)"
   ]
  },
  {
   "cell_type": "code",
   "execution_count": 64,
   "metadata": {},
   "outputs": [
    {
     "name": "stdout",
     "output_type": "stream",
     "text": [
      "CSV File Saved to directory: ../data/filtered/\n"
     ]
    }
   ],
   "source": [
    "save_filtered(df_filter)"
   ]
  }
 ],
 "metadata": {
  "kernelspec": {
   "display_name": "Python 3",
   "language": "python",
   "name": "python3"
  },
  "language_info": {
   "codemirror_mode": {
    "name": "ipython",
    "version": 3
   },
   "file_extension": ".py",
   "mimetype": "text/x-python",
   "name": "python",
   "nbconvert_exporter": "python",
   "pygments_lexer": "ipython3",
   "version": "3.10.9"
  },
  "orig_nbformat": 4
 },
 "nbformat": 4,
 "nbformat_minor": 2
}
